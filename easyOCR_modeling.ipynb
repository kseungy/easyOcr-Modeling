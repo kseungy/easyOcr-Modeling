{
  "nbformat": 4,
  "nbformat_minor": 0,
  "metadata": {
    "colab": {
      "name": "easyOCR_3의 사본",
      "provenance": [],
      "collapsed_sections": []
    },
    "kernelspec": {
      "name": "python3",
      "display_name": "Python 3"
    },
    "language_info": {
      "name": "python"
    },
    "accelerator": "GPU"
  },
  "cells": [
    {
      "cell_type": "code",
      "source": [
        "# https://davelogs.tistory.com/78?category=928468\n",
        "# https://cvml.tistory.com/22?category=854254\n",
        "# https://velog.io/@apphia39/python-CRNN-%ED%95%9C%EA%B8%80-%EB%AA%A8%EB%8D%B8-%ED%95%99%EC%8A%B5%ED%95%98%EA%B8%B0"
      ],
      "metadata": {
        "id": "G_DuNIYxc8r2"
      },
      "execution_count": null,
      "outputs": []
    },
    {
      "cell_type": "code",
      "source": [
        "from google.colab import drive\n",
        "drive.mount('/content/drive')"
      ],
      "metadata": {
        "colab": {
          "base_uri": "https://localhost:8080/"
        },
        "id": "vNyVuYm0DyuV",
        "outputId": "f765c61e-2f8c-4454-a419-7180fe93d33c"
      },
      "execution_count": null,
      "outputs": [
        {
          "output_type": "stream",
          "name": "stdout",
          "text": [
            "Mounted at /content/drive\n"
          ]
        }
      ]
    },
    {
      "cell_type": "code",
      "source": [
        "# 한글데이터 만들기"
      ],
      "metadata": {
        "id": "dEhwKkFLMlF9"
      },
      "execution_count": null,
      "outputs": []
    },
    {
      "cell_type": "code",
      "source": [
        "!git clone https://github.com/Belval/TextRecognitionDataGenerator.git"
      ],
      "metadata": {
        "colab": {
          "base_uri": "https://localhost:8080/"
        },
        "id": "PeKheiN_0c-w",
        "outputId": "7ea6d2ac-ef13-4eb6-d484-518c2c438472"
      },
      "execution_count": null,
      "outputs": [
        {
          "output_type": "stream",
          "name": "stdout",
          "text": [
            "Cloning into 'TextRecognitionDataGenerator'...\n",
            "remote: Enumerating objects: 1171, done.\u001b[K\n",
            "remote: Total 1171 (delta 0), reused 0 (delta 0), pack-reused 1171\u001b[K\n",
            "Receiving objects: 100% (1171/1171), 135.43 MiB | 14.17 MiB/s, done.\n",
            "Resolving deltas: 100% (568/568), done.\n",
            "Checking out files: 100% (275/275), done.\n"
          ]
        }
      ]
    },
    {
      "cell_type": "code",
      "source": [
        "!pip3 install -r /content/TextRecognitionDataGenerator/requirements.txt"
      ],
      "metadata": {
        "colab": {
          "base_uri": "https://localhost:8080/"
        },
        "id": "1HHzcAOgArXv",
        "outputId": "f7cc4e9a-d7b5-4715-b9c9-4b43c9132c7d"
      },
      "execution_count": null,
      "outputs": [
        {
          "output_type": "stream",
          "name": "stdout",
          "text": [
            "Requirement already satisfied: pillow>=7.0.0 in /usr/local/lib/python3.7/dist-packages (from -r /content/TextRecognitionDataGenerator/requirements.txt (line 1)) (7.1.2)\n",
            "Requirement already satisfied: requests>=2.20.0 in /usr/local/lib/python3.7/dist-packages (from -r /content/TextRecognitionDataGenerator/requirements.txt (line 2)) (2.23.0)\n",
            "Collecting opencv-python>=4.2.0.32\n",
            "  Downloading opencv_python-4.5.5.62-cp36-abi3-manylinux_2_17_x86_64.manylinux2014_x86_64.whl (60.4 MB)\n",
            "\u001b[K     |████████████████████████████████| 60.4 MB 1.5 MB/s \n",
            "\u001b[?25hRequirement already satisfied: tqdm>=4.23.0 in /usr/local/lib/python3.7/dist-packages (from -r /content/TextRecognitionDataGenerator/requirements.txt (line 4)) (4.62.3)\n",
            "Requirement already satisfied: beautifulsoup4>=4.6.0 in /usr/local/lib/python3.7/dist-packages (from -r /content/TextRecognitionDataGenerator/requirements.txt (line 5)) (4.6.3)\n",
            "Collecting diffimg==0.2.3\n",
            "  Downloading diffimg-0.2.3.tar.gz (4.1 kB)\n",
            "Collecting arabic-reshaper==2.1.3\n",
            "  Downloading arabic_reshaper-2.1.3-py3-none-any.whl (20 kB)\n",
            "Collecting python-bidi==0.4.2\n",
            "  Downloading python_bidi-0.4.2-py2.py3-none-any.whl (30 kB)\n",
            "Requirement already satisfied: setuptools in /usr/local/lib/python3.7/dist-packages (from arabic-reshaper==2.1.3->-r /content/TextRecognitionDataGenerator/requirements.txt (line 7)) (57.4.0)\n",
            "Requirement already satisfied: future in /usr/local/lib/python3.7/dist-packages (from arabic-reshaper==2.1.3->-r /content/TextRecognitionDataGenerator/requirements.txt (line 7)) (0.16.0)\n",
            "Requirement already satisfied: six in /usr/local/lib/python3.7/dist-packages (from python-bidi==0.4.2->-r /content/TextRecognitionDataGenerator/requirements.txt (line 8)) (1.15.0)\n",
            "Requirement already satisfied: chardet<4,>=3.0.2 in /usr/local/lib/python3.7/dist-packages (from requests>=2.20.0->-r /content/TextRecognitionDataGenerator/requirements.txt (line 2)) (3.0.4)\n",
            "Requirement already satisfied: certifi>=2017.4.17 in /usr/local/lib/python3.7/dist-packages (from requests>=2.20.0->-r /content/TextRecognitionDataGenerator/requirements.txt (line 2)) (2021.10.8)\n",
            "Requirement already satisfied: idna<3,>=2.5 in /usr/local/lib/python3.7/dist-packages (from requests>=2.20.0->-r /content/TextRecognitionDataGenerator/requirements.txt (line 2)) (2.10)\n",
            "Requirement already satisfied: urllib3!=1.25.0,!=1.25.1,<1.26,>=1.21.1 in /usr/local/lib/python3.7/dist-packages (from requests>=2.20.0->-r /content/TextRecognitionDataGenerator/requirements.txt (line 2)) (1.24.3)\n",
            "Requirement already satisfied: numpy>=1.14.5 in /usr/local/lib/python3.7/dist-packages (from opencv-python>=4.2.0.32->-r /content/TextRecognitionDataGenerator/requirements.txt (line 3)) (1.21.5)\n",
            "Building wheels for collected packages: diffimg\n",
            "  Building wheel for diffimg (setup.py) ... \u001b[?25l\u001b[?25hdone\n",
            "  Created wheel for diffimg: filename=diffimg-0.2.3-py3-none-any.whl size=4049 sha256=5477e67b3470ca6c073e322a701e5f631569e6cf94902e451ec0c6d990e33e38\n",
            "  Stored in directory: /root/.cache/pip/wheels/6c/5d/60/bde2a959be56bca572bd67d49ebd52844d2ef933e85601dfa9\n",
            "Successfully built diffimg\n",
            "Installing collected packages: python-bidi, opencv-python, diffimg, arabic-reshaper\n",
            "  Attempting uninstall: opencv-python\n",
            "    Found existing installation: opencv-python 4.1.2.30\n",
            "    Uninstalling opencv-python-4.1.2.30:\n",
            "      Successfully uninstalled opencv-python-4.1.2.30\n",
            "\u001b[31mERROR: pip's dependency resolver does not currently take into account all the packages that are installed. This behaviour is the source of the following dependency conflicts.\n",
            "albumentations 0.1.12 requires imgaug<0.2.7,>=0.2.5, but you have imgaug 0.2.9 which is incompatible.\u001b[0m\n",
            "Successfully installed arabic-reshaper-2.1.3 diffimg-0.2.3 opencv-python-4.5.5.62 python-bidi-0.4.2\n"
          ]
        }
      ]
    },
    {
      "cell_type": "code",
      "source": [
        "# !python3 /content/TextRecognitionDataGenerator/trdg/run.py -c 100 -l ko"
      ],
      "metadata": {
        "id": "mlr2sjg-A5Eq"
      },
      "execution_count": null,
      "outputs": []
    },
    {
      "cell_type": "code",
      "source": [
        "# training: 10,000개\n",
        "!python3 /content/TextRecognitionDataGenerator/trdg/run.py \\\n",
        "        --output_dir \"/content/step1/training/kordata\" \\\n",
        "        --language \"ko\" \\\n",
        "        --count 10000"
      ],
      "metadata": {
        "colab": {
          "base_uri": "https://localhost:8080/"
        },
        "id": "gZQFKbkSv55f",
        "outputId": "6693c505-8c37-4e33-b7fd-041c37450b8e"
      },
      "execution_count": null,
      "outputs": [
        {
          "output_type": "stream",
          "name": "stdout",
          "text": [
            "100% 10000/10000 [00:23<00:00, 424.89it/s]\n"
          ]
        }
      ]
    },
    {
      "cell_type": "code",
      "source": [
        "# validation: 1,000개\n",
        "!python3 /content/TextRecognitionDataGenerator/trdg/run.py \\\n",
        "        --output_dir \"/content/step1/validation/kordata\" \\\n",
        "        --language \"ko\" \\\n",
        "        --count 1000"
      ],
      "metadata": {
        "colab": {
          "base_uri": "https://localhost:8080/"
        },
        "id": "6ZsuCpYLw1w0",
        "outputId": "4b7bae0f-6238-4666-8805-b2e7a02ebb39"
      },
      "execution_count": null,
      "outputs": [
        {
          "output_type": "stream",
          "name": "stdout",
          "text": [
            "100% 1000/1000 [00:02<00:00, 403.24it/s]\n"
          ]
        }
      ]
    },
    {
      "cell_type": "code",
      "source": [
        "# test: 1,000개\n",
        "!python3 /content/TextRecognitionDataGenerator/trdg/run.py \\\n",
        "        --output_dir \"/content/step1/test/kordata\" \\\n",
        "        --language \"ko\" \\\n",
        "        --count 1000"
      ],
      "metadata": {
        "colab": {
          "base_uri": "https://localhost:8080/"
        },
        "id": "tpbOkHSew1nZ",
        "outputId": "4a480c12-e378-4e27-a753-bdbaa11632f5"
      },
      "execution_count": null,
      "outputs": [
        {
          "output_type": "stream",
          "name": "stdout",
          "text": [
            "100% 1000/1000 [00:02<00:00, 466.28it/s]\n"
          ]
        }
      ]
    },
    {
      "cell_type": "code",
      "source": [
        "# 한글 데이터 변환하기"
      ],
      "metadata": {
        "id": "j1u7cb2tKwJY"
      },
      "execution_count": null,
      "outputs": []
    },
    {
      "cell_type": "code",
      "source": [
        "!git clone https://github.com/DaveLogs/TRDG2DTRB.git"
      ],
      "metadata": {
        "colab": {
          "base_uri": "https://localhost:8080/"
        },
        "id": "89BheVanMqd3",
        "outputId": "0af5029c-7f2c-479c-f23e-0f1e99dc2359"
      },
      "execution_count": null,
      "outputs": [
        {
          "output_type": "stream",
          "name": "stdout",
          "text": [
            "Cloning into 'TRDG2DTRB'...\n",
            "remote: Enumerating objects: 43, done.\u001b[K\n",
            "remote: Counting objects: 100% (43/43), done.\u001b[K\n",
            "remote: Compressing objects: 100% (38/38), done.\u001b[K\n",
            "remote: Total 43 (delta 10), reused 21 (delta 3), pack-reused 0\u001b[K\n",
            "Unpacking objects: 100% (43/43), done.\n"
          ]
        }
      ]
    },
    {
      "cell_type": "code",
      "source": [
        "# !python3 /content/TRDG2DTRB/convert.py \\\n",
        "#\t--input_path ./out \\\n",
        "#  \t--output_path ./output"
      ],
      "metadata": {
        "id": "N_nLLmdtMrld"
      },
      "execution_count": null,
      "outputs": []
    },
    {
      "cell_type": "code",
      "source": [
        "# train 학습데이터 변환\n",
        "!python3 /content/TRDG2DTRB/convert.py \\\n",
        "        --input_path \"/content/step1/training/kordata\" \\\n",
        "        --output_path \"/content/step2/training/kordata\""
      ],
      "metadata": {
        "colab": {
          "base_uri": "https://localhost:8080/"
        },
        "id": "ihJyuLlmxNI7",
        "outputId": "894ba3bb-9329-4b9e-c7cf-968926eb8bf9"
      },
      "execution_count": null,
      "outputs": [
        {
          "output_type": "stream",
          "name": "stdout",
          "text": [
            "input path:  /content/step1/training/kordata\n",
            "output path:  /content/step2/training/kordata\n",
            "Total file count:  10000\n",
            "\r  100 / 10000 Processing !!"
          ]
        }
      ]
    },
    {
      "cell_type": "code",
      "source": [
        "# validation 학습데이터 변환\n",
        "!python3 /content/TRDG2DTRB/convert.py \\\n",
        "        --input_path \"/content/step1/validation/kordata\" \\\n",
        "        --output_path \"/content/step2/validation/kordata\""
      ],
      "metadata": {
        "id": "VUp6uF_OxOOR"
      },
      "execution_count": null,
      "outputs": []
    },
    {
      "cell_type": "code",
      "source": [
        "# test 학습데이터 변환\n",
        "!python3 /content/TRDG2DTRB/convert.py \\\n",
        "        --input_path \"/content/step1/test/kordata\" \\\n",
        "        --output_path \"/content/step2/test/kordata\""
      ],
      "metadata": {
        "id": "wyFc1J4CxOFN"
      },
      "execution_count": null,
      "outputs": []
    },
    {
      "cell_type": "code",
      "source": [
        "# 모델 학습"
      ],
      "metadata": {
        "id": "H9VOIQDzMy4w"
      },
      "execution_count": null,
      "outputs": []
    },
    {
      "cell_type": "code",
      "source": [
        "!git clone https://github.com/clovaai/deep-text-recognition-benchmark.git"
      ],
      "metadata": {
        "id": "2cLd3YuEPi-K"
      },
      "execution_count": null,
      "outputs": []
    },
    {
      "cell_type": "code",
      "source": [
        "!pip3 install torch torchvision\n",
        "!pip3 install lmdb pillow nltk natsort\n",
        "!pip3 install fire"
      ],
      "metadata": {
        "id": "3Kgef7VHPj1r"
      },
      "execution_count": null,
      "outputs": []
    },
    {
      "cell_type": "code",
      "source": [
        "# training 데이터 변환\n",
        "!python3 /content/deep-text-recognition-benchmark/create_lmdb_dataset.py \\\n",
        "        --gtFile \"/content/step2/training/kordata/gt.txt\" \\\n",
        "        --inputPath \"/content/step2/training/kordata\" \\\n",
        "        --outputPath \"/content/step3/training/kordata\""
      ],
      "metadata": {
        "id": "PKeZrf6cxv6f"
      },
      "execution_count": null,
      "outputs": []
    },
    {
      "cell_type": "code",
      "source": [
        "# validation 데이터 변환\n",
        "! python3 /content/deep-text-recognition-benchmark/create_lmdb_dataset.py \\\n",
        "        --gtFile \"/content/step2/validation/kordata/gt.txt\" \\\n",
        "        --inputPath \"/content/step2/validation/kordata\" \\\n",
        "        --outputPath \"/content/step3/validation/kordata\""
      ],
      "metadata": {
        "id": "5T1WV5pex6_q"
      },
      "execution_count": null,
      "outputs": []
    },
    {
      "cell_type": "code",
      "source": [
        "# test 데이터 변환\n",
        "! python3 /content/deep-text-recognition-benchmark/create_lmdb_dataset.py \\\n",
        "        --gtFile \"/content/step2/test/kordata/gt.txt\" \\\n",
        "        --inputPath \"/content/step2/test/kordata\" \\\n",
        "        --outputPath \"/content/step3/test/kordata\""
      ],
      "metadata": {
        "id": "DdyGhq2Jx61a"
      },
      "execution_count": null,
      "outputs": []
    },
    {
      "cell_type": "code",
      "source": [
        "# custom data 학습 /content/pre_trained_model"
      ],
      "metadata": {
        "id": "83ELO6UrviGe"
      },
      "execution_count": null,
      "outputs": []
    },
    {
      "cell_type": "code",
      "source": [
        "%cd deep-text-recognition-benchmark"
      ],
      "metadata": {
        "id": "AePn1MZJ8OPL"
      },
      "execution_count": null,
      "outputs": []
    },
    {
      "cell_type": "code",
      "source": [
        "# deep-text-recognition-benchmark 프로젝트 'train.py'의 285라인에 아래 코드를 삽입한다.\n",
        "#opt.character = \" !\\\"#$%&'()*+,-./0123456789:;<=>?@ABCDEFGHIJKLMNOPQRSTUVWXYZ[\\\\]^_`abcdefghijklmnopqrstuvwxyz{|}~가각간갇갈감갑값강갖같갚갛개객걀거걱건걷걸검겁것겉게겨격겪견결겹경곁계고곡곤곧골곰곱곳공과관광괜괴굉교구국군굳굴굵굶굽궁권귀규균그극근글긁금급긋긍기긴길김깅깊까깎깐깔깜깝깥깨꺼꺾껍껏껑께껴꼬꼭꼴꼼꼽꽂꽃꽉꽤꾸꿀꿈뀌끄끈끊끌끓끔끗끝끼낌나낙낚난날낡남납낫낭낮낯낱낳내냄냉냐냥너넉널넓넘넣네넥넷녀녁년념녕노녹논놀놈농높놓놔뇌뇨누눈눕뉘뉴늄느늑는늘늙능늦늬니닐님다닥닦단닫달닭닮담답닷당닿대댁댐더덕던덜덤덥덧덩덮데델도독돈돌돕동돼되된두둑둘둠둡둥뒤뒷드득든듣들듬듭듯등디딩딪따딱딴딸땀땅때땜떠떡떤떨떻떼또똑뚜뚫뚱뛰뜨뜩뜯뜰뜻띄라락란람랍랑랗래랜램랫략량러럭런럴럼럽럿렁렇레렉렌려력련렬렵령례로록론롬롭롯료루룩룹룻뤄류륙률륭르른름릇릎리릭린림립릿마막만많말맑맘맙맛망맞맡맣매맥맨맵맺머먹먼멀멈멋멍멎메멘멩며면멸명몇모목몰몸몹못몽묘무묵묶문묻물뭄뭇뭐뭣므미민믿밀밉밌및밑바박밖반받발밝밟밤밥방밭배백뱀뱃뱉버번벌범법벗베벤벼벽변별볍병볕보복볶본볼봄봇봉뵈뵙부북분불붉붐붓붕붙뷰브블비빌빗빚빛빠빨빵빼뺨뻐뻔뻗뼈뽑뿌뿐쁘쁨사삭산살삶삼상새색샌생서석섞선설섬섭섯성세센셈셋션소속손솔솜솟송솥쇄쇠쇼수숙순술숨숫숲쉬쉽슈스슨슬슴습슷승시식신싣실싫심십싱싶싸싹쌀쌍쌓써썩썰썹쎄쏘쏟쑤쓰쓸씀씌씨씩씬씹씻아악안앉않알앓암압앗앙앞애액야약얇양얗얘어억언얹얻얼엄업없엇엉엌엎에엔엘여역연열엷염엽엿영옆예옛오옥온올옮옳옷와완왕왜왠외왼요욕용우욱운울움웃웅워원월웨웬위윗유육율으윽은을음응의이익인일읽잃임입잇있잊잎자작잔잖잘잠잡장잦재쟁저적전절젊점접젓정젖제젠젯져조족존졸좀좁종좋좌죄주죽준줄줌줍중쥐즈즉즌즐즘증지직진질짐집짓징짙짚짜짝짧째쨌쩌쩍쩐쪽쫓쭈쭉찌찍찢차착찬찮찰참창찾채책챔챙처척천철첫청체쳐초촉촌총촬최추축춘출춤춥춧충취츠측츰층치칙친칠침칭카칸칼캐캠커컨컬컴컵컷켓켜코콜콤콩쾌쿠퀴크큰클큼키킬타탁탄탈탑탓탕태택탤터턱털텅테텍텔템토톤톱통퇴투툼퉁튀튜트특튼튿틀틈티틱팀팅파팎판팔패팩팬퍼퍽페펴편펼평폐포폭표푸푹풀품풍퓨프플픔피픽필핏핑하학한할함합항해핵핸햄햇행향허헌험헤헬혀현혈협형혜호혹혼홀홍화확환활황회획횟효후훈훌훔훨휘휴흉흐흑흔흘흙흡흥흩희흰히힘\"\n",
        "# 아래 character는 EasyOCR 프로젝트 './easyocr/config.py'의 'korean_g2' > 'character'에 해당한다."
      ],
      "metadata": {
        "id": "zbd0ZEn8G_I_"
      },
      "execution_count": null,
      "outputs": []
    },
    {
      "cell_type": "code",
      "source": [
        "!python3 train.py \\\n",
        "        --train_data \"/content/step3/training\" \\\n",
        "        --valid_data \"/content/step3/validation\" \\\n",
        "        --select_data / \\\n",
        "        --batch_ratio 1 \\\n",
        "        --Transformation None \\\n",
        "        --FeatureExtraction \"VGG\" \\\n",
        "        --SequenceModeling \"BiLSTM\" \\\n",
        "        --Prediction \"CTC\" \\\n",
        "        --input_channel 1 \\\n",
        "        --output_channel 256 \\\n",
        "        --hidden_size 256 \\\n",
        "        --saved_model \"/content/drive/MyDrive/korean_g2.pth\" \\\n",
        "        --FT"
      ],
      "metadata": {
        "id": "pY7QcrC5IlE1"
      },
      "execution_count": null,
      "outputs": []
    },
    {
      "cell_type": "code",
      "source": [
        ""
      ],
      "metadata": {
        "id": "1U63wVXop75U"
      },
      "execution_count": null,
      "outputs": []
    }
  ]
}